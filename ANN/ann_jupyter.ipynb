{
 "cells": [
  {
   "cell_type": "code",
   "execution_count": 1,
   "metadata": {
    "collapsed": true
   },
   "outputs": [],
   "source": [
    "# Artificial Neural Network\n",
    "\n",
    "# Installing Theano\n",
    "# pip install --upgrade --no-deps git+git://github.com/Theano/Theano.git\n",
    "\n",
    "# Installing Tensorflow\n",
    "# Install Tensorflow from the website: https://www.tensorflow.org/versions/r0.12/get_started/os_setup.html\n",
    "\n",
    "# Installing Keras\n",
    "# \n",
    "\n",
    "\n",
    "# Part 1 - Data Preprocessing\n",
    "\n",
    "# Importing the libraries\n",
    "import numpy as np\n",
    "import matplotlib.pyplot as plt\n",
    "import pandas as pd"
   ]
  },
  {
   "cell_type": "code",
   "execution_count": 2,
   "metadata": {
    "collapsed": true
   },
   "outputs": [],
   "source": [
    "# Importing the dataset\n",
    "dataset = pd.read_csv('Churn_Modelling.csv')\n",
    "X = dataset.iloc[:, 3:13].values\n",
    "y = dataset.iloc[:, 13].values"
   ]
  },
  {
   "cell_type": "code",
   "execution_count": 3,
   "metadata": {},
   "outputs": [
    {
     "name": "stderr",
     "output_type": "stream",
     "text": [
      "Using TensorFlow backend.\n"
     ]
    }
   ],
   "source": [
    "# Importing the Keras libraries and packages\n",
    "import keras\n",
    "from keras.models import Sequential\n",
    "from keras.layers import Dense"
   ]
  },
  {
   "cell_type": "code",
   "execution_count": 4,
   "metadata": {
    "collapsed": true
   },
   "outputs": [],
   "source": [
    "# Encoding categorical data\n",
    "from sklearn.preprocessing import LabelEncoder, OneHotEncoder\n",
    "labelencoder_X_1 = LabelEncoder()\n",
    "X[:, 1] = labelencoder_X_1.fit_transform(X[:, 1])\n",
    "labelencoder_X_2 = LabelEncoder()\n",
    "X[:, 2] = labelencoder_X_2.fit_transform(X[:, 2])\n",
    "onehotencoder = OneHotEncoder(categorical_features = [1])\n",
    "X = onehotencoder.fit_transform(X).toarray()\n",
    "X = X[:, 1:]"
   ]
  },
  {
   "cell_type": "code",
   "execution_count": 5,
   "metadata": {
    "collapsed": true
   },
   "outputs": [],
   "source": [
    "# Splitting the dataset into the Training set and Test set\n",
    "from sklearn.model_selection import train_test_split\n",
    "X_train, X_test, y_train, y_test = train_test_split(X, y, test_size = 0.2, random_state = 0)"
   ]
  },
  {
   "cell_type": "code",
   "execution_count": 6,
   "metadata": {
    "collapsed": true
   },
   "outputs": [],
   "source": [
    "# Feature Scaling\n",
    "from sklearn.preprocessing import StandardScaler\n",
    "sc = StandardScaler()\n",
    "X_train = sc.fit_transform(X_train)\n",
    "X_test = sc.transform(X_test)"
   ]
  },
  {
   "cell_type": "code",
   "execution_count": 7,
   "metadata": {
    "collapsed": true
   },
   "outputs": [],
   "source": [
    "'''Trains a simple deep NN on the MNIST dataset.\n",
    "Gets to 98.40% test accuracy after 20 epochs\n",
    "(there is *a lot* of margin for parameter tuning).\n",
    "2 seconds per epoch on a K520 GPU.\n",
    "'''\n",
    "import torch\n",
    "import torch.nn as nn\n",
    "from torch.autograd import Variable\n",
    "import torch.nn.functional as F\n",
    "from torch import optim\n",
    "\n",
    "from __future__ import print_function\n",
    "\n",
    "import keras\n",
    "from keras.datasets import mnist\n",
    "from keras.models import Sequential\n",
    "from keras.layers import Dense, Dropout, Activation\n",
    "from keras.optimizers import RMSprop\n",
    "\n",
    "\n",
    "from keras import backend as K\n",
    "from keras import layers\n",
    "import numpy as np\n",
    "import tensorflow as tf\n",
    "\n",
    "class NormalDensity(layers.Layer):\n",
    "\n",
    "    def __init__(self, output_dim, **kwargs):\n",
    "        self.output_dim = output_dim\n",
    "        #self.batch_size = batch_size\n",
    "        super(NormalDensity, self).__init__(**kwargs)\n",
    "        \n",
    "    def build(self, input_shape):\n",
    "        \n",
    "        #Define set of traditional weights\n",
    "        self.w = self.add_weight(name='w', \n",
    "                                 shape=(input_shape[1], self.output_dim),\n",
    "                                 initializer='uniform',\n",
    "                                 trainable=True)\n",
    "        \n",
    "        #Define our plasticity coefficient\n",
    "        self.alpha = self.add_weight(name='alpha', \n",
    "                              shape=(1, 1),\n",
    "                              initializer='uniform',\n",
    "                              trainable=True)\n",
    "        \n",
    "        \n",
    "        #The Hebbian trace\n",
    "        self.hebb = self.add_weight(name='hebb', \n",
    "                              shape=(input_shape[1], self.output_dim),\n",
    "                              initializer='zeros',\n",
    "                              trainable=False)\n",
    "        \n",
    "        #Step size will be optimized\n",
    "        self.eta = self.add_weight(name='eta', \n",
    "                                      shape=(1, 1),\n",
    "                                      initializer='uniform',\n",
    "                                      trainable=True)\n",
    "        super(NormalDensity, self).build(input_shape)\n",
    "\n",
    "        \n",
    "        #yout = F.tanh( yin.mm(self.w + torch.mul(self.alpha, hebb)) + input )\n",
    "        #hebb = (1 - self.eta) * hebb + self.eta * torch.bmm(yin.unsqueeze(2), yout.unsqueeze(1))[0] # bmm here is used to implement an outer product between yin and yout, with the help of unsqueeze (i.e. added empty dimensions)\n",
    "        #return yout, hebb\n",
    "\n",
    "    def call(self, x):\n",
    "        \n",
    "        #X (layer input)     : shape(?, INPUT_DIM)\n",
    "        #W                   : shape(INPUT_DIM, OUTPUT_DIM)\n",
    "        #hebb                : shape(INPUT_DIM, OUTPUT_DIM)\n",
    "        #Y (layer output)    : shape(?, OUTPUT_DIM)\n",
    "        #ETA                 : scalar (one per layer)\n",
    "        \n",
    "        #yout = K.maximum(0.0, np.add((K.dot(self.y, np.add(K.dot(self.alpha, K.transpose(self.hebb)), self.w))), x))\n",
    "        #hebb = (1 - 0.01) * self.hebb + 0.01 * K.dot(self.y, yout)\n",
    "        #yout = K.maximum(0.0, np.add(self.y * np.add(self.alpha * self.hebb, self.w), x))\n",
    "        \n",
    "        #y = K.dot(x, self.w)\n",
    "        #y = F.tanh( yin.mm(self.w + torch.mul(self.alpha, hebb)) + yin )\n",
    "        #plastic_y = self.alpha * (K.dot(x, self.hebb)) \n",
    "        #self.hebb = (1 - self.eta) * self.hebb + self.eta * torch.bmm(yin.unsqueeze(2), yout.unsqueeze(1))[0]\n",
    "        #model_out = K.maximum(0.0, y + plastic_y)\n",
    "        \n",
    "        #Hebbian update - option 1\n",
    "        #self.hebb = self.eta * K.dot(x, model_out) + (1 - self.eta) * self.hebb\n",
    "        #print(self.hebb)\n",
    "        \n",
    "        #Hebbian update - option 2\n",
    "        #self.hebb +=self.eta * K.dot(model_out, (x - (K.dot(model_out, self.hebb))))\n",
    "        \n",
    "        y = K.dot(x, self.w)\n",
    "        plastic_y = self.alpha * (K.dot(x, self.hebb))   \n",
    "        model_out = K.maximum(0.0, y + plastic_y)\n",
    "        \n",
    "        #Hebbian update - option 1\n",
    "        self.hebb = self.eta * K.dot(x, model_out) + (1 - self.eta) * self.hebb\n",
    "        print(self.hebb)\n",
    "\n",
    "        return model_out\n",
    "        #return K.maximum(0.0, y)\n",
    "    \n",
    "    def compute_output_shape(self, input_shape):\n",
    "        return (input_shape[0], self.output_dim)\n"
   ]
  },
  {
   "cell_type": "code",
   "execution_count": 8,
   "metadata": {
    "collapsed": true
   },
   "outputs": [],
   "source": [
    "# Initialising the ANN\n",
    "classifier = Sequential()"
   ]
  },
  {
   "cell_type": "code",
   "execution_count": 9,
   "metadata": {},
   "outputs": [
    {
     "name": "stderr",
     "output_type": "stream",
     "text": [
      "/Users/yunuskocyigit/anaconda/lib/python3.6/site-packages/ipykernel_launcher.py:2: UserWarning: Update your `Dense` call to the Keras 2 API: `Dense(activation=\"relu\", input_dim=11, units=6, kernel_initializer=\"uniform\")`\n",
      "  \n"
     ]
    }
   ],
   "source": [
    "# Adding the input layer and the first hidden layer\n",
    "classifier.add(Dense(output_dim = 6, init = 'uniform', activation = 'relu', input_dim = 11))\n",
    "#classifier.add(NormalDensity(6, input_shape=(11,)))\n"
   ]
  },
  {
   "cell_type": "code",
   "execution_count": 10,
   "metadata": {},
   "outputs": [
    {
     "name": "stderr",
     "output_type": "stream",
     "text": [
      "/Users/yunuskocyigit/anaconda/lib/python3.6/site-packages/ipykernel_launcher.py:2: UserWarning: Update your `Dense` call to the Keras 2 API: `Dense(activation=\"relu\", units=6, kernel_initializer=\"uniform\")`\n",
      "  \n"
     ]
    }
   ],
   "source": [
    "# Adding the second hidden layer\n",
    "classifier.add(Dense(output_dim = 6, init = 'uniform', activation = 'relu'))"
   ]
  },
  {
   "cell_type": "code",
   "execution_count": 11,
   "metadata": {},
   "outputs": [
    {
     "name": "stderr",
     "output_type": "stream",
     "text": [
      "/Users/yunuskocyigit/anaconda/lib/python3.6/site-packages/ipykernel_launcher.py:2: UserWarning: Update your `Dense` call to the Keras 2 API: `Dense(activation=\"sigmoid\", units=1, kernel_initializer=\"uniform\")`\n",
      "  \n"
     ]
    }
   ],
   "source": [
    "# Adding the output layer\n",
    "classifier.add(Dense(output_dim = 1, init = 'uniform', activation = 'sigmoid'))"
   ]
  },
  {
   "cell_type": "code",
   "execution_count": 12,
   "metadata": {
    "collapsed": true
   },
   "outputs": [],
   "source": [
    "# Compiling the ANN\n",
    "classifier.compile(optimizer = 'adam', loss = 'binary_crossentropy', metrics = ['accuracy'])"
   ]
  },
  {
   "cell_type": "code",
   "execution_count": 13,
   "metadata": {},
   "outputs": [
    {
     "name": "stderr",
     "output_type": "stream",
     "text": [
      "/Users/yunuskocyigit/anaconda/lib/python3.6/site-packages/keras/models.py:981: UserWarning: The `nb_epoch` argument in `fit` has been renamed `epochs`.\n",
      "  warnings.warn('The `nb_epoch` argument in `fit` '\n"
     ]
    },
    {
     "name": "stdout",
     "output_type": "stream",
     "text": [
      "Epoch 1/100\n",
      "8000/8000 [==============================] - 1s 129us/step - loss: 0.4822 - acc: 0.7959\n",
      "Epoch 2/100\n",
      "8000/8000 [==============================] - 1s 108us/step - loss: 0.4256 - acc: 0.7960\n",
      "Epoch 3/100\n",
      "8000/8000 [==============================] - 1s 116us/step - loss: 0.4194 - acc: 0.8069\n",
      "Epoch 4/100\n",
      "8000/8000 [==============================] - 1s 119us/step - loss: 0.4165 - acc: 0.8274\n",
      "Epoch 5/100\n",
      "8000/8000 [==============================] - 1s 118us/step - loss: 0.4145 - acc: 0.8296\n",
      "Epoch 6/100\n",
      "8000/8000 [==============================] - 1s 120us/step - loss: 0.4135 - acc: 0.8310\n",
      "Epoch 7/100\n",
      "8000/8000 [==============================] - 1s 108us/step - loss: 0.4120 - acc: 0.8311\n",
      "Epoch 8/100\n",
      "8000/8000 [==============================] - 1s 110us/step - loss: 0.4110 - acc: 0.8327\n",
      "Epoch 9/100\n",
      "8000/8000 [==============================] - 1s 109us/step - loss: 0.4105 - acc: 0.8322\n",
      "Epoch 10/100\n",
      "8000/8000 [==============================] - 1s 110us/step - loss: 0.4093 - acc: 0.8332\n",
      "Epoch 11/100\n",
      "8000/8000 [==============================] - 1s 108us/step - loss: 0.4086 - acc: 0.8327\n",
      "Epoch 12/100\n",
      "8000/8000 [==============================] - 1s 110us/step - loss: 0.4076 - acc: 0.8347\n",
      "Epoch 13/100\n",
      "8000/8000 [==============================] - 1s 110us/step - loss: 0.4073 - acc: 0.8345\n",
      "Epoch 14/100\n",
      "8000/8000 [==============================] - 1s 110us/step - loss: 0.4068 - acc: 0.8350\n",
      "Epoch 15/100\n",
      "8000/8000 [==============================] - 1s 109us/step - loss: 0.4059 - acc: 0.8345\n",
      "Epoch 16/100\n",
      "8000/8000 [==============================] - 1s 109us/step - loss: 0.4063 - acc: 0.8325\n",
      "Epoch 17/100\n",
      "8000/8000 [==============================] - 1s 109us/step - loss: 0.4052 - acc: 0.8335\n",
      "Epoch 18/100\n",
      "8000/8000 [==============================] - 1s 111us/step - loss: 0.4046 - acc: 0.8345\n",
      "Epoch 19/100\n",
      "8000/8000 [==============================] - 1s 108us/step - loss: 0.4046 - acc: 0.8329\n",
      "Epoch 20/100\n",
      "8000/8000 [==============================] - 1s 111us/step - loss: 0.4042 - acc: 0.8332\n",
      "Epoch 21/100\n",
      "8000/8000 [==============================] - 1s 111us/step - loss: 0.4039 - acc: 0.8339\n",
      "Epoch 22/100\n",
      "8000/8000 [==============================] - 1s 110us/step - loss: 0.4036 - acc: 0.8365\n",
      "Epoch 23/100\n",
      "8000/8000 [==============================] - 1s 108us/step - loss: 0.4035 - acc: 0.8352\n",
      "Epoch 24/100\n",
      "8000/8000 [==============================] - 1s 110us/step - loss: 0.4034 - acc: 0.8341\n",
      "Epoch 25/100\n",
      "8000/8000 [==============================] - 1s 110us/step - loss: 0.4032 - acc: 0.8350\n",
      "Epoch 26/100\n",
      "8000/8000 [==============================] - 1s 110us/step - loss: 0.4030 - acc: 0.8351\n",
      "Epoch 27/100\n",
      "8000/8000 [==============================] - 1s 110us/step - loss: 0.4027 - acc: 0.8360\n",
      "Epoch 28/100\n",
      "8000/8000 [==============================] - 1s 109us/step - loss: 0.4027 - acc: 0.8347\n",
      "Epoch 29/100\n",
      "8000/8000 [==============================] - 1s 110us/step - loss: 0.4029 - acc: 0.8340\n",
      "Epoch 30/100\n",
      "8000/8000 [==============================] - 1s 108us/step - loss: 0.4021 - acc: 0.8355\n",
      "Epoch 31/100\n",
      "8000/8000 [==============================] - 1s 108us/step - loss: 0.4021 - acc: 0.8362\n",
      "Epoch 32/100\n",
      "8000/8000 [==============================] - 1s 115us/step - loss: 0.4021 - acc: 0.8342\n",
      "Epoch 33/100\n",
      "8000/8000 [==============================] - 1s 109us/step - loss: 0.4021 - acc: 0.8356\n",
      "Epoch 34/100\n",
      "8000/8000 [==============================] - 1s 128us/step - loss: 0.4018 - acc: 0.8351\n",
      "Epoch 35/100\n",
      "8000/8000 [==============================] - 1s 117us/step - loss: 0.4019 - acc: 0.8360\n",
      "Epoch 36/100\n",
      "8000/8000 [==============================] - 1s 112us/step - loss: 0.4014 - acc: 0.8352\n",
      "Epoch 37/100\n",
      "8000/8000 [==============================] - 1s 114us/step - loss: 0.4017 - acc: 0.8351\n",
      "Epoch 38/100\n",
      "8000/8000 [==============================] - 1s 112us/step - loss: 0.4019 - acc: 0.8346\n",
      "Epoch 39/100\n",
      "8000/8000 [==============================] - 1s 109us/step - loss: 0.4014 - acc: 0.8344\n",
      "Epoch 40/100\n",
      "8000/8000 [==============================] - 1s 115us/step - loss: 0.4012 - acc: 0.8349\n",
      "Epoch 41/100\n",
      "8000/8000 [==============================] - 1s 111us/step - loss: 0.4014 - acc: 0.8359\n",
      "Epoch 42/100\n",
      "8000/8000 [==============================] - 1s 113us/step - loss: 0.4015 - acc: 0.8362\n",
      "Epoch 43/100\n",
      "8000/8000 [==============================] - 1s 110us/step - loss: 0.4013 - acc: 0.8357\n",
      "Epoch 44/100\n",
      "8000/8000 [==============================] - 1s 110us/step - loss: 0.4013 - acc: 0.8362\n",
      "Epoch 45/100\n",
      "8000/8000 [==============================] - 1s 108us/step - loss: 0.4010 - acc: 0.8345\n",
      "Epoch 46/100\n",
      "8000/8000 [==============================] - 1s 108us/step - loss: 0.4009 - acc: 0.8359\n",
      "Epoch 47/100\n",
      "8000/8000 [==============================] - 1s 110us/step - loss: 0.4012 - acc: 0.8347\n",
      "Epoch 48/100\n",
      "8000/8000 [==============================] - 1s 115us/step - loss: 0.4006 - acc: 0.8354\n",
      "Epoch 49/100\n",
      "8000/8000 [==============================] - 1s 112us/step - loss: 0.4005 - acc: 0.8352\n",
      "Epoch 50/100\n",
      "8000/8000 [==============================] - 1s 109us/step - loss: 0.4011 - acc: 0.8355\n",
      "Epoch 51/100\n",
      "8000/8000 [==============================] - 1s 116us/step - loss: 0.4005 - acc: 0.8367\n",
      "Epoch 52/100\n",
      "8000/8000 [==============================] - 1s 116us/step - loss: 0.4003 - acc: 0.8354\n",
      "Epoch 53/100\n",
      "8000/8000 [==============================] - 1s 110us/step - loss: 0.4007 - acc: 0.8351\n",
      "Epoch 54/100\n",
      "8000/8000 [==============================] - 1s 112us/step - loss: 0.4006 - acc: 0.8369\n",
      "Epoch 55/100\n",
      "8000/8000 [==============================] - 1s 114us/step - loss: 0.4003 - acc: 0.8356\n",
      "Epoch 56/100\n",
      "8000/8000 [==============================] - 1s 112us/step - loss: 0.4000 - acc: 0.8360\n",
      "Epoch 57/100\n",
      "8000/8000 [==============================] - 1s 115us/step - loss: 0.4005 - acc: 0.8364\n",
      "Epoch 58/100\n",
      "8000/8000 [==============================] - 1s 117us/step - loss: 0.4006 - acc: 0.8361\n",
      "Epoch 59/100\n",
      "8000/8000 [==============================] - 1s 114us/step - loss: 0.4006 - acc: 0.8341\n",
      "Epoch 60/100\n",
      "8000/8000 [==============================] - 1s 115us/step - loss: 0.4001 - acc: 0.8365\n",
      "Epoch 61/100\n",
      "8000/8000 [==============================] - 1s 111us/step - loss: 0.4004 - acc: 0.8361\n",
      "Epoch 62/100\n",
      "8000/8000 [==============================] - 1s 115us/step - loss: 0.4005 - acc: 0.8361\n",
      "Epoch 63/100\n",
      "8000/8000 [==============================] - 1s 115us/step - loss: 0.4001 - acc: 0.8352\n",
      "Epoch 64/100\n",
      "8000/8000 [==============================] - 1s 113us/step - loss: 0.3993 - acc: 0.8356\n",
      "Epoch 65/100\n",
      "8000/8000 [==============================] - 1s 116us/step - loss: 0.3994 - acc: 0.8367\n",
      "Epoch 66/100\n",
      "8000/8000 [==============================] - 1s 114us/step - loss: 0.3989 - acc: 0.8366\n",
      "Epoch 67/100\n",
      "8000/8000 [==============================] - 1s 116us/step - loss: 0.3995 - acc: 0.8362\n",
      "Epoch 68/100\n",
      "8000/8000 [==============================] - 1s 116us/step - loss: 0.3992 - acc: 0.8360\n",
      "Epoch 69/100\n",
      "8000/8000 [==============================] - 1s 116us/step - loss: 0.3985 - acc: 0.8374\n",
      "Epoch 70/100\n",
      "8000/8000 [==============================] - 1s 111us/step - loss: 0.3977 - acc: 0.8375\n",
      "Epoch 71/100\n",
      "8000/8000 [==============================] - 1s 118us/step - loss: 0.3980 - acc: 0.8372\n",
      "Epoch 72/100\n",
      "8000/8000 [==============================] - 1s 123us/step - loss: 0.3978 - acc: 0.8369\n",
      "Epoch 73/100\n",
      "8000/8000 [==============================] - 1s 122us/step - loss: 0.3975 - acc: 0.8379\n",
      "Epoch 74/100\n",
      "8000/8000 [==============================] - 1s 116us/step - loss: 0.3974 - acc: 0.8369\n",
      "Epoch 75/100\n",
      "8000/8000 [==============================] - 1s 110us/step - loss: 0.3970 - acc: 0.8360\n",
      "Epoch 76/100\n",
      "8000/8000 [==============================] - 1s 120us/step - loss: 0.3967 - acc: 0.8354\n",
      "Epoch 77/100\n",
      "8000/8000 [==============================] - 1s 116us/step - loss: 0.3966 - acc: 0.8345\n",
      "Epoch 78/100\n",
      "8000/8000 [==============================] - 1s 122us/step - loss: 0.3961 - acc: 0.8384\n",
      "Epoch 79/100\n",
      "8000/8000 [==============================] - 1s 121us/step - loss: 0.3952 - acc: 0.8352\n",
      "Epoch 80/100\n",
      "8000/8000 [==============================] - 1s 118us/step - loss: 0.3964 - acc: 0.8364\n",
      "Epoch 81/100\n",
      "8000/8000 [==============================] - 1s 112us/step - loss: 0.3959 - acc: 0.8369\n",
      "Epoch 82/100\n"
     ]
    },
    {
     "name": "stdout",
     "output_type": "stream",
     "text": [
      "8000/8000 [==============================] - 1s 112us/step - loss: 0.3957 - acc: 0.8347\n",
      "Epoch 83/100\n",
      "8000/8000 [==============================] - 1s 108us/step - loss: 0.3959 - acc: 0.8366\n",
      "Epoch 84/100\n",
      "8000/8000 [==============================] - 1s 104us/step - loss: 0.3959 - acc: 0.8362\n",
      "Epoch 85/100\n",
      "8000/8000 [==============================] - 1s 109us/step - loss: 0.3954 - acc: 0.8386\n",
      "Epoch 86/100\n",
      "8000/8000 [==============================] - 1s 110us/step - loss: 0.3950 - acc: 0.8364\n",
      "Epoch 87/100\n",
      "8000/8000 [==============================] - 1s 111us/step - loss: 0.3956 - acc: 0.8371\n",
      "Epoch 88/100\n",
      "8000/8000 [==============================] - 1s 113us/step - loss: 0.3952 - acc: 0.8370\n",
      "Epoch 89/100\n",
      "8000/8000 [==============================] - 1s 114us/step - loss: 0.3948 - acc: 0.8365\n",
      "Epoch 90/100\n",
      "8000/8000 [==============================] - 1s 107us/step - loss: 0.3953 - acc: 0.8354\n",
      "Epoch 91/100\n",
      "8000/8000 [==============================] - 1s 107us/step - loss: 0.3947 - acc: 0.8370\n",
      "Epoch 92/100\n",
      "8000/8000 [==============================] - 1s 107us/step - loss: 0.3952 - acc: 0.8365\n",
      "Epoch 93/100\n",
      "8000/8000 [==============================] - 1s 108us/step - loss: 0.3948 - acc: 0.8371\n",
      "Epoch 94/100\n",
      "8000/8000 [==============================] - 1s 104us/step - loss: 0.3950 - acc: 0.8365\n",
      "Epoch 95/100\n",
      "8000/8000 [==============================] - 1s 108us/step - loss: 0.3944 - acc: 0.8357\n",
      "Epoch 96/100\n",
      "8000/8000 [==============================] - 1s 106us/step - loss: 0.3947 - acc: 0.8371\n",
      "Epoch 97/100\n",
      "8000/8000 [==============================] - 1s 106us/step - loss: 0.3948 - acc: 0.8385\n",
      "Epoch 98/100\n",
      "8000/8000 [==============================] - 1s 106us/step - loss: 0.3949 - acc: 0.8362\n",
      "Epoch 99/100\n",
      "8000/8000 [==============================] - 1s 109us/step - loss: 0.3943 - acc: 0.8356\n",
      "Epoch 100/100\n",
      "8000/8000 [==============================] - 1s 106us/step - loss: 0.3947 - acc: 0.8367\n"
     ]
    },
    {
     "data": {
      "text/plain": [
       "<keras.callbacks.History at 0x1a27351470>"
      ]
     },
     "execution_count": 13,
     "metadata": {},
     "output_type": "execute_result"
    }
   ],
   "source": [
    "# Fitting the ANN to the Training set\n",
    "classifier.fit(X_train, y_train, batch_size = 10, nb_epoch = 100)"
   ]
  },
  {
   "cell_type": "code",
   "execution_count": 13,
   "metadata": {
    "collapsed": true
   },
   "outputs": [],
   "source": [
    "# Part 3 - Making the predictions and evaluating the model\n",
    "# Predicting the Test set results\n",
    "y_pred = classifier.predict(X_test)\n",
    "y_pred = (y_pred > 0.5)"
   ]
  },
  {
   "cell_type": "code",
   "execution_count": 14,
   "metadata": {
    "collapsed": true
   },
   "outputs": [],
   "source": [
    "# Making the Confusion Matrix\n",
    "from sklearn.metrics import confusion_matrix\n",
    "cm = confusion_matrix(y_test, y_pred)"
   ]
  },
  {
   "cell_type": "code",
   "execution_count": null,
   "metadata": {
    "collapsed": true
   },
   "outputs": [],
   "source": []
  }
 ],
 "metadata": {
  "kernelspec": {
   "display_name": "Python 3",
   "language": "python",
   "name": "python3"
  },
  "language_info": {
   "codemirror_mode": {
    "name": "ipython",
    "version": 3
   },
   "file_extension": ".py",
   "mimetype": "text/x-python",
   "name": "python",
   "nbconvert_exporter": "python",
   "pygments_lexer": "ipython3",
   "version": "3.6.2"
  }
 },
 "nbformat": 4,
 "nbformat_minor": 2
}
